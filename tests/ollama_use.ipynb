{
 "cells": [
  {
   "cell_type": "code",
   "execution_count": 5,
   "metadata": {},
   "outputs": [],
   "source": [
    "\n",
    "import os\n",
    "from dotenv import load_dotenv\n",
    "from langchain_core.messages import HumanMessage, SystemMessage\n",
    "from langchain_ollama import ChatOllama, OllamaLLM, OllamaEmbeddings\n",
    "load_dotenv()\n",
    "# deepseek-r1:32b ｜ qwq:32b\n",
    "chat_model = ChatOllama(\n",
    "    base_url=os.environ['OLLAMA_BASE_URL'],  # 可配置为内部服务器地址\n",
    "    model=\"deepseek-r1:32b\",\n",
    "    temperature=0.8,\n",
    "    num_ctx=4096  # 上下文窗口大小\n",
    ")\n",
    "# 2.加载模型\n",
    "embedding_model = OllamaEmbeddings(\n",
    "    base_url=os.environ['OLLAMA_BASE_URL'],  # 可配置为内部服务器地址\n",
    "    model=os.environ['OLLAMA_EMBEDDING_MODEL_NAME'],\n",
    "    temperature=0.8,\n",
    "    num_ctx=4096  # 上下文窗口大小\n",
    ")\n",
    "llm_model = OllamaLLM(\n",
    "    base_url=os.environ['OLLAMA_BASE_URL'],  # 可配置为内部服务器地址\n",
    "    model=\"deepseek-r1:32b\",\n",
    "    temperature=0.2, # 控制随机性（0 确定性高，1 创造性高）。\n",
    "    num_ctx=4096,  # 上下文窗口大小\n",
    "    top_p=0.8, #核采样概率，过滤低概率 token（0.1 严格，1.0 宽松）。\n",
    "    )\n",
    "\n",
    "# messages = [\n",
    "#     SystemMessage(content=\"你是一个助手，用简体中文回答。\"),\n",
    "#     HumanMessage(content=\"推荐一本关于AI的书籍。\")\n",
    "# ]\n",
    "# response = model.invoke(messages)\n",
    "# print(response.content)  # 输出结构化消息\n",
    "# for chunk in model.stream(messages):\n",
    "#     print(chunk.content, end=\"\", flush=True)\n",
    "\n"
   ]
  },
  {
   "cell_type": "code",
   "execution_count": 27,
   "metadata": {},
   "outputs": [
    {
     "name": "stdout",
     "output_type": "stream",
     "text": [
      "data:image/png;base64,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\n"
     ]
    }
   ],
   "source": [
    "from langchain_core.messages import HumanMessage\n",
    "import base64\n",
    "\n",
    "def image_to_base64(image_path):\n",
    "    try:\n",
    "        # 打开指定路径的图像文件，以二进制读取模式(\"rb\")\n",
    "        with open(image_path, \"rb\") as img_file:\n",
    "            # 使用base64库将图像文件内容编码为base64字符串\n",
    "            return base64.b64encode(img_file.read()).decode(\"utf-8\")\n",
    "    except FileNotFoundError:\n",
    "            print(f\"文件 {image_path} 未找到。\")\n",
    "            return None\n",
    "\n",
    "image_b64 = image_to_base64(\"../files/image.png\")\n",
    "message = HumanMessage(content=[\n",
    "    {\"type\": \"text\", \"text\": \"描述这张图片\"},\n",
    "    {\"type\": \"image_url\", \"image_url\": f\"data:image/png;base64,{image_b64}\"}\n",
    "])\n",
    "print(f\"data:image/png;base64,{image_b64}\")\n",
    "# 需要视觉大模型识别\n",
    "# response = model.invoke([message])\n",
    "# print(response)"
   ]
  },
  {
   "cell_type": "code",
   "execution_count": null,
   "metadata": {},
   "outputs": [
    {
     "ename": "TypeError",
     "evalue": "Expected a Runnable, callable or dict.Instead got an unsupported type: <class 'str'>",
     "output_type": "error",
     "traceback": [
      "\u001b[0;31m---------------------------------------------------------------------------\u001b[0m",
      "\u001b[0;31mTypeError\u001b[0m                                 Traceback (most recent call last)",
      "Cell \u001b[0;32mIn[26], line 11\u001b[0m\n\u001b[1;32m      3\u001b[0m \u001b[38;5;28;01mfrom\u001b[39;00m\u001b[38;5;250m \u001b[39m\u001b[38;5;21;01mlangchain_core\u001b[39;00m\u001b[38;5;21;01m.\u001b[39;00m\u001b[38;5;21;01mrunnables\u001b[39;00m\u001b[38;5;250m \u001b[39m\u001b[38;5;28;01mimport\u001b[39;00m RunnableParallel, RunnablePassthrough\n\u001b[1;32m      5\u001b[0m prompt \u001b[38;5;241m=\u001b[39m ChatPromptTemplate\u001b[38;5;241m.\u001b[39mfrom_template(\u001b[38;5;124m\"\"\"\u001b[39m\n\u001b[1;32m      6\u001b[0m \u001b[38;5;124m    根据用户输入判断意图类别，仅返回分类标签。\u001b[39m\n\u001b[1;32m      7\u001b[0m \u001b[38;5;124m    可选标签：查询信息、操作指令、闲聊、其他。\u001b[39m\n\u001b[1;32m      8\u001b[0m \u001b[38;5;124m    输入：\u001b[39m\u001b[38;5;132;01m{user_input}\u001b[39;00m\n\u001b[1;32m      9\u001b[0m \u001b[38;5;124m    分类结果及用输入的上下文输出：                            \u001b[39m\n\u001b[1;32m     10\u001b[0m \u001b[38;5;124m    \u001b[39m\u001b[38;5;124m\"\"\"\u001b[39m)\n\u001b[0;32m---> 11\u001b[0m chain \u001b[38;5;241m=\u001b[39m \u001b[43mRunnableParallel\u001b[49m\u001b[43m(\u001b[49m\u001b[43muser_input\u001b[49m\u001b[38;5;241;43m=\u001b[39;49m\u001b[43mRunnablePassthrough\u001b[49m\u001b[43m(\u001b[49m\u001b[43m)\u001b[49m\u001b[43m,\u001b[49m\u001b[43m \u001b[49m\u001b[43mcontext\u001b[49m\u001b[38;5;241;43m=\u001b[39;49m\u001b[38;5;124;43m\"\u001b[39;49m\u001b[38;5;124;43m我会根据你的执行结果做具体操作的。\u001b[39;49m\u001b[38;5;124;43m\"\u001b[39;49m\u001b[43m)\u001b[49m \u001b[38;5;241m|\u001b[39m prompt \u001b[38;5;241m|\u001b[39m chat_model \u001b[38;5;241m|\u001b[39m StrOutputParser()\n\u001b[1;32m     12\u001b[0m response \u001b[38;5;241m=\u001b[39m chain\u001b[38;5;241m.\u001b[39minvoke(\u001b[38;5;124m\"\u001b[39m\u001b[38;5;124m你是谁\u001b[39m\u001b[38;5;124m\"\u001b[39m)\n\u001b[1;32m     13\u001b[0m \u001b[38;5;28mprint\u001b[39m(\u001b[38;5;28mtype\u001b[39m(response))  \n",
      "File \u001b[0;32m~/miniconda3/envs/llm_learn/lib/python3.10/site-packages/langchain_core/runnables/base.py:3546\u001b[0m, in \u001b[0;36mRunnableParallel.__init__\u001b[0;34m(self, steps__, **kwargs)\u001b[0m\n\u001b[1;32m   3543\u001b[0m merged \u001b[38;5;241m=\u001b[39m {\u001b[38;5;241m*\u001b[39m\u001b[38;5;241m*\u001b[39msteps__} \u001b[38;5;28;01mif\u001b[39;00m steps__ \u001b[38;5;129;01mis\u001b[39;00m \u001b[38;5;129;01mnot\u001b[39;00m \u001b[38;5;28;01mNone\u001b[39;00m \u001b[38;5;28;01melse\u001b[39;00m {}\n\u001b[1;32m   3544\u001b[0m merged\u001b[38;5;241m.\u001b[39mupdate(kwargs)\n\u001b[1;32m   3545\u001b[0m \u001b[38;5;28msuper\u001b[39m()\u001b[38;5;241m.\u001b[39m\u001b[38;5;21m__init__\u001b[39m(  \u001b[38;5;66;03m# type: ignore[call-arg]\u001b[39;00m\n\u001b[0;32m-> 3546\u001b[0m     steps__\u001b[38;5;241m=\u001b[39m{key: coerce_to_runnable(r) \u001b[38;5;28;01mfor\u001b[39;00m key, r \u001b[38;5;129;01min\u001b[39;00m merged\u001b[38;5;241m.\u001b[39mitems()}\n\u001b[1;32m   3547\u001b[0m )\n",
      "File \u001b[0;32m~/miniconda3/envs/llm_learn/lib/python3.10/site-packages/langchain_core/runnables/base.py:3546\u001b[0m, in \u001b[0;36m<dictcomp>\u001b[0;34m(.0)\u001b[0m\n\u001b[1;32m   3543\u001b[0m merged \u001b[38;5;241m=\u001b[39m {\u001b[38;5;241m*\u001b[39m\u001b[38;5;241m*\u001b[39msteps__} \u001b[38;5;28;01mif\u001b[39;00m steps__ \u001b[38;5;129;01mis\u001b[39;00m \u001b[38;5;129;01mnot\u001b[39;00m \u001b[38;5;28;01mNone\u001b[39;00m \u001b[38;5;28;01melse\u001b[39;00m {}\n\u001b[1;32m   3544\u001b[0m merged\u001b[38;5;241m.\u001b[39mupdate(kwargs)\n\u001b[1;32m   3545\u001b[0m \u001b[38;5;28msuper\u001b[39m()\u001b[38;5;241m.\u001b[39m\u001b[38;5;21m__init__\u001b[39m(  \u001b[38;5;66;03m# type: ignore[call-arg]\u001b[39;00m\n\u001b[0;32m-> 3546\u001b[0m     steps__\u001b[38;5;241m=\u001b[39m{key: \u001b[43mcoerce_to_runnable\u001b[49m\u001b[43m(\u001b[49m\u001b[43mr\u001b[49m\u001b[43m)\u001b[49m \u001b[38;5;28;01mfor\u001b[39;00m key, r \u001b[38;5;129;01min\u001b[39;00m merged\u001b[38;5;241m.\u001b[39mitems()}\n\u001b[1;32m   3547\u001b[0m )\n",
      "File \u001b[0;32m~/miniconda3/envs/llm_learn/lib/python3.10/site-packages/langchain_core/runnables/base.py:5853\u001b[0m, in \u001b[0;36mcoerce_to_runnable\u001b[0;34m(thing)\u001b[0m\n\u001b[1;32m   5848\u001b[0m \u001b[38;5;28;01melse\u001b[39;00m:\n\u001b[1;32m   5849\u001b[0m     msg \u001b[38;5;241m=\u001b[39m (\n\u001b[1;32m   5850\u001b[0m         \u001b[38;5;124mf\u001b[39m\u001b[38;5;124m\"\u001b[39m\u001b[38;5;124mExpected a Runnable, callable or dict.\u001b[39m\u001b[38;5;124m\"\u001b[39m\n\u001b[1;32m   5851\u001b[0m         \u001b[38;5;124mf\u001b[39m\u001b[38;5;124m\"\u001b[39m\u001b[38;5;124mInstead got an unsupported type: \u001b[39m\u001b[38;5;132;01m{\u001b[39;00m\u001b[38;5;28mtype\u001b[39m(thing)\u001b[38;5;132;01m}\u001b[39;00m\u001b[38;5;124m\"\u001b[39m\n\u001b[1;32m   5852\u001b[0m     )\n\u001b[0;32m-> 5853\u001b[0m     \u001b[38;5;28;01mraise\u001b[39;00m \u001b[38;5;167;01mTypeError\u001b[39;00m(msg)\n",
      "\u001b[0;31mTypeError\u001b[0m: Expected a Runnable, callable or dict.Instead got an unsupported type: <class 'str'>"
     ]
    }
   ],
   "source": [
    "from langchain_core.prompts import ChatPromptTemplate\n",
    "from langchain_core.output_parsers import StrOutputParser\n",
    "from langchain_core.runnables import RunnableParallel, RunnablePassthrough\n",
    "\n",
    "prompt = ChatPromptTemplate.from_template(\"\"\"\n",
    "    根据用户输入判断意图类别，仅返回分类标签。\n",
    "    可选标签：查询信息、操作指令、闲聊、其他。\n",
    "    输入：{user_input}，上下文：{context}\n",
    "    分类结果及用输入的上下文输出：                            \n",
    "    \"\"\")\n",
    "chain = RunnableParallel(user_input=RunnablePassthrough(), context=\"我会根据你的执行结果做具体操作的。\") | prompt | chat_model | StrOutputParser()\n",
    "response = chain.invoke(\"你是谁\")\n",
    "print(type(response))  \n",
    "print(response) \n"
   ]
  },
  {
   "cell_type": "code",
   "execution_count": 3,
   "metadata": {},
   "outputs": [
    {
     "name": "stdout",
     "output_type": "stream",
     "text": [
      "<think>\n",
      "好，我来分析一下用户的输入：“今天天气怎么样？” 这句话是在询问当天的天气情况，属于获取特定信息的需求。因此，它符合“查询信息”这个标签的标准。\n",
      "</think>\n",
      "\n",
      "查询信息\n",
      "<think>\n",
      "好的，我来分析一下用户的这个请求“打开客厅的灯”。首先，这句话看起来像是一个明确的操作指令，用户希望执行某个具体的动作，也就是打开客厅里的灯。接下来，我要考虑意图分类器的任务是将输入分为四个类别：查询信息、操作指令、闲聊和其他。\n",
      "\n",
      "“打开”是一个明显的动词，表示要进行一个操作。“客厅的灯”则是目标对象，说明是要控制特定位置的设备。因此，这句话属于操作指令类，因为它涉及到对某个设备的操作，而不是询问信息或闲聊。\n",
      "\n",
      "另外，用户可能是在使用智能家居系统或者其他远程控制系统来完成这个操作。这种情况下，意图分类器需要准确识别出这是一个需要执行具体动作的指令，以便系统能够正确响应并执行。\n",
      "\n",
      "综上所述，“打开客厅的灯”明确属于操作指令类别，因为它是一个直接的操作命令。\n",
      "</think>\n",
      "\n",
      "操作指令\n",
      "<think>\n",
      "好，我现在要分析用户的输入，并决定合适的标签。用户说：“讲个笑话”。首先，这句话是在请求一个笑话，属于闲聊的范畴。没有涉及到查询信息或执行某个操作，也不是其他类型的问题。因此，正确的标签应该是“闲聊”。\n",
      "</think>\n",
      "\n",
      "闲聊\n",
      "<think>\n",
      "嗯，我现在要分析用户的输入“肚子好疼”，然后给它打上正确的标签：查询信息、操作指令、闲聊、或者其他。首先，我需要理解每个标签的含义。\n",
      "\n",
      "查询信息通常是指用户在寻求特定的信息或答案，比如询问天气、地点等。操作指令则是指用户希望执行某个任务，比如打开应用、设置闹钟等。闲聊则是在轻松交流，没有明确目的，比如打招呼或者聊天。其他则是不属于上述任何一种的情况，可能包括表达感受、情绪等。\n",
      "\n",
      "“肚子好疼”这句话看起来像是用户在描述自己的身体状况，可能是疼痛或不舒服的感觉。这并不是在寻求信息，也不是在执行某个任务，因此排除了查询信息和操作指令。同时，这也不是闲聊，因为闲聊通常是轻松的交流，而这里更像是表达一种不适感。\n",
      "\n",
      "所以，这种情况应该属于“其他”类别，因为它涉及到健康问题，可能需要进一步的帮助或关注，但不属于上述三个标签中的任何一个。\n",
      "</think>\n",
      "\n",
      "其他\n"
     ]
    }
   ],
   "source": [
    "from langchain_core.prompts import ChatPromptTemplate\n",
    "from langchain_core.output_parsers import StrOutputParser\n",
    "\n",
    "# 定义分类提示\n",
    "prompt = ChatPromptTemplate.from_messages([\n",
    "    (\"system\", \"你是一个意图分类器，根据用户输入选择标签：查询信息、操作指令、闲聊、其他。仅返回标签。\"),\n",
    "    (\"human\", \"{input}\")\n",
    "])\n",
    "\n",
    "# 构建链式流程\n",
    "chain = prompt | chat_model | StrOutputParser()\n",
    "\n",
    "# 测试输入\n",
    "inputs = [\"今天天气怎么样？\", \"打开客厅的灯\", \"讲个笑话\", \"肚子好疼\"]\n",
    "for output in chain.batch(inputs):\n",
    "    print(output)  # 预期输出：查询信息、操作指令、闲聊\n"
   ]
  }
 ],
 "metadata": {
  "kernelspec": {
   "display_name": "llm_learn",
   "language": "python",
   "name": "python3"
  },
  "language_info": {
   "codemirror_mode": {
    "name": "ipython",
    "version": 3
   },
   "file_extension": ".py",
   "mimetype": "text/x-python",
   "name": "python",
   "nbconvert_exporter": "python",
   "pygments_lexer": "ipython3",
   "version": "3.10.12"
  }
 },
 "nbformat": 4,
 "nbformat_minor": 2
}
