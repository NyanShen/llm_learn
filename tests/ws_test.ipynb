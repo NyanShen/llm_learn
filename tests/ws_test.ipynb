{
 "cells": [
  {
   "cell_type": "code",
   "execution_count": null,
   "metadata": {},
   "outputs": [
    {
     "name": "stdout",
     "output_type": "stream",
     "text": [
      "Connected to WebSocket server\n",
      "<class 'str'> {\"message\": \"\\u5982\\u4f55\\u7406\\u89e3\\u4e2d\\u56fd\\u5171\\u4ea7\\u515a\\u662f\\u6700\\u5927\\u7684\\u56fd\\u60c5\"}\n",
      "Sent: {\"message\": \"\\u5982\\u4f55\\u7406\\u89e3\\u4e2d\\u56fd\\u5171\\u4ea7\\u515a\\u662f\\u6700\\u5927\\u7684\\u56fd\\u60c5\"}\n",
      "Received: <think>\n"
     ]
    }
   ],
   "source": [
    "import asyncio\n",
    "import websockets\n",
    "import nest_asyncio\n",
    "import json\n",
    "\n",
    "nest_asyncio.apply()\n",
    "\n",
    "async def test_websocket():\n",
    "    uri = \"ws://localhost:8000/ws/v1/chats/question\"\n",
    "    async with websockets.connect(uri) as websocket:\n",
    "        print(\"Connected to WebSocket server\")\n",
    "\n",
    "        # 发送消息\n",
    "        message = json.dumps({\"message\": \"如何理解语言模型？\"})\n",
    "        print(type(message), message)\n",
    "        await websocket.send(message)\n",
    "        print(f\"Sent: {message}\")\n",
    "\n",
    "        # 接收消息\n",
    "        response = await websocket.recv()\n",
    "        print(f\"Received: {response}\")\n",
    "\n",
    "# 运行测试\n",
    "asyncio.get_event_loop().run_until_complete(test_websocket())\n"
   ]
  }
 ],
 "metadata": {
  "kernelspec": {
   "display_name": "llm_learn",
   "language": "python",
   "name": "python3"
  },
  "language_info": {
   "codemirror_mode": {
    "name": "ipython",
    "version": 3
   },
   "file_extension": ".py",
   "mimetype": "text/x-python",
   "name": "python",
   "nbconvert_exporter": "python",
   "pygments_lexer": "ipython3",
   "version": "3.10.12"
  }
 },
 "nbformat": 4,
 "nbformat_minor": 2
}
