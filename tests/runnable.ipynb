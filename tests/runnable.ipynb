{
 "cells": [
  {
   "cell_type": "code",
   "execution_count": 1,
   "metadata": {},
   "outputs": [
    {
     "data": {
      "text/plain": [
       "'检索结果: 如何使用langchain? 请给出详细的技术解决方案'"
      ]
     },
     "execution_count": 1,
     "metadata": {},
     "output_type": "execute_result"
    }
   ],
   "source": [
    "# 查询预处理\n",
    "from langchain_core.runnables import RunnableLambda\n",
    "\n",
    "def query_expansion(query: str) -> str:\n",
    "    return f\"{query} 请给出详细的技术解决方案\"\n",
    "\n",
    "def test_retriever(query: str) -> str:\n",
    "    # 假设这是一个简单的检索器，它只是返回查询本身\n",
    "    return f\"检索结果: {query}\"\n",
    "\n",
    "enhanced_retriever = RunnableLambda(query_expansion) | test_retriever\n",
    "enhanced_retriever.invoke(\"如何使用langchain?\")"
   ]
  }
 ],
 "metadata": {
  "kernelspec": {
   "display_name": "llm_learn",
   "language": "python",
   "name": "python3"
  },
  "language_info": {
   "codemirror_mode": {
    "name": "ipython",
    "version": 3
   },
   "file_extension": ".py",
   "mimetype": "text/x-python",
   "name": "python",
   "nbconvert_exporter": "python",
   "pygments_lexer": "ipython3",
   "version": "3.10.12"
  }
 },
 "nbformat": 4,
 "nbformat_minor": 2
}
