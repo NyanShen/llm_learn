{
 "cells": [
  {
   "cell_type": "code",
   "execution_count": 1,
   "metadata": {},
   "outputs": [],
   "source": [
    "\n",
    "import os\n",
    "from dotenv import load_dotenv\n",
    "from langchain_ollama import OllamaEmbeddings\n",
    "\n",
    "# 1.加载环境变量\n",
    "load_dotenv()\n",
    "\n",
    "# 2.加载模型\n",
    "embedding_model = OllamaEmbeddings(\n",
    "    base_url=os.environ['OLLAMA_BASE_URL'],  # 可配置为内部服务器地址\n",
    "    model=os.environ['OLLAMA_EMBEDDING_MODEL_NAME'],\n",
    "    temperature=0.8,\n",
    "    num_ctx=4096  # 上下文窗口大小\n",
    ")\n"
   ]
  },
  {
   "cell_type": "code",
   "execution_count": null,
   "metadata": {},
   "outputs": [
    {
     "name": "stderr",
     "output_type": "stream",
     "text": [
      "100%|██████████| 1/1 [02:20<00:00, 140.90s/it]\n"
     ]
    },
    {
     "name": "stdout",
     "output_type": "stream",
     "text": [
      "已增强 427 个文档块 [Document(metadata={'source': '../documents/quality/2025quality.pdf', 'file_path': '../documents/quality/2025quality.pdf', 'page': 0, 'total_pages': 427, 'Author': '', 'Comments': '', 'Company': '', 'CreationDate': \"D:20250121112430+08'00'\", 'Creator': 'WPS 演示', 'Keywords': '', 'ModDate': \"D:20250121112430+08'00'\", 'Producer': '', 'SourceModified': \"D:20250121112430+08'00'\", 'Subject': '', 'Title': '', 'Trapped': 'False', 'subject': 'quality', 'keywords': '质量 管理'}, page_content='[quality] 质量管理'), Document(metadata={'source': '../documents/quality/2025quality.pdf', 'file_path': '../documents/quality/2025quality.pdf', 'page': 1, 'total_pages': 427, 'Author': '', 'Comments': '', 'Company': '', 'CreationDate': \"D:20250121112430+08'00'\", 'Creator': 'WPS 演示', 'Keywords': '', 'ModDate': \"D:20250121112430+08'00'\", 'Producer': '', 'SourceModified': \"D:20250121112430+08'00'\", 'Subject': '', 'Title': '', 'Trapped': 'False', 'subject': 'quality', 'keywords': '管理 质量 框架 TQM 资源管理'}, page_content='[quality] 质量管理\\n第一章 质量与质量管理导论\\n第二章 质量管理理念与框架\\n第三章 以顾客为中心\\n第四章 领导与战略计划\\n第五章 基于TQM的人力资源管理\\n第六章 过程管理\\n课程知\\n第七章 质量改进\\n识框架\\n第八章 绩效测量与知识管理\\n第九章 相关方关系管理\\n第十章 统计学基础与应用\\n第十一章 统计过程控制\\n第十二章 可靠性管理\\n第十三章 标准化与认证制度'), Document(metadata={'source': '../documents/quality/2025quality.pdf', 'file_path': '../documents/quality/2025quality.pdf', 'page': 2, 'total_pages': 427, 'Author': '', 'Comments': '', 'Company': '', 'CreationDate': \"D:20250121112430+08'00'\", 'Creator': 'WPS 演示', 'Keywords': '', 'ModDate': \"D:20250121112430+08'00'\", 'Producer': '', 'SourceModified': \"D:20250121112430+08'00'\", 'Subject': '', 'Title': '', 'Trapped': 'False', 'subject': 'quality', 'keywords': '质量 导论 第一章 管理'}, page_content='[quality] 第一章 质量与质量管理导论')]\n",
      "已处理 427 个 quality 文档块\n"
     ]
    },
    {
     "name": "stderr",
     "output_type": "stream",
     "text": [
      "100%|██████████| 1/1 [00:23<00:00, 23.61s/it]\n"
     ]
    },
    {
     "name": "stdout",
     "output_type": "stream",
     "text": [
      "已增强 815 个文档块 [Document(metadata={'source': '../documents/history/15040.pdf', 'file_path': '../documents/history/15040.pdf', 'page': 0, 'total_pages': 815, 'Title': 'PowerPoint 演示文稿', 'Author': 'HouYujia', 'CreationDate': \"D:20231030143608+08'00'\", 'ModDate': \"D:20241224105232+08'00'\", 'Producer': 'Microsoft® PowerPoint® 2016', 'Creator': 'Microsoft® PowerPoint® 2016', 'subject': 'history', 'keywords': '习近平 概论 特色 社会主义 思想'}, page_content='[history] 习近平新时代中国特色社会主义思想概论'), Document(metadata={'source': '../documents/history/15040.pdf', 'file_path': '../documents/history/15040.pdf', 'page': 1, 'total_pages': 815, 'Title': 'PowerPoint 演示文稿', 'Author': 'HouYujia', 'CreationDate': \"D:20231030143608+08'00'\", 'ModDate': \"D:20241224105232+08'00'\", 'Producer': 'Microsoft® PowerPoint® 2016', 'Creator': 'Microsoft® PowerPoint® 2016', 'subject': 'history', 'keywords': '全面 社会主义 坚持 现代化 特色'}, page_content='[history] 习近平新时代中国特色社会主义思想概论\\n课程目录\\n导论\\n第一章 新时代坚持和发展中国特色社会主义\\n第二章 以中国式现代化全面推进中华民族伟大复兴\\n第三章 坚持党的全面领导\\n第四章 坚持以人民为中心\\n第五章 全面深化改革开放\\n第六章 推动高质量发展\\n第七章 社会主义现代化建设的教育、科技、人才战略\\n第八章 发展全过程人民民主\\n第九章 全面依法治国'), Document(metadata={'source': '../documents/history/15040.pdf', 'file_path': '../documents/history/15040.pdf', 'page': 2, 'total_pages': 815, 'Title': 'PowerPoint 演示文稿', 'Author': 'HouYujia', 'CreationDate': \"D:20231030143608+08'00'\", 'ModDate': \"D:20241224105232+08'00'\", 'Producer': 'Microsoft® PowerPoint® 2016', 'Creator': 'Microsoft® PowerPoint® 2016', 'subject': 'history', 'keywords': '建设 社会主义 特色 从严治党 巩固国防'}, page_content='[history] 习近平新时代中国特色社会主义思想概论\\n课程目录\\n第十章 建设社会主义文化强国\\n第十一章 以保障和改善民生为重点加强社会建设\\n第十二章 建设社会主义生态文明\\n第十三章 维护和塑造国家安全\\n第十四章 建设巩固国防和强大人民军队\\n第十五章 坚持“ 一国两制”和推进祖国完全统一\\n第十六章 中国特色大国外交和推动构建人类命运共同体\\n第十七章 全面从严治党')]\n",
      "已处理 815 个 history 文档块\n"
     ]
    },
    {
     "ename": "TypeError",
     "evalue": "Chroma.__init__() got an unexpected keyword argument 'metadata'",
     "output_type": "error",
     "traceback": [
      "\u001b[0;31m---------------------------------------------------------------------------\u001b[0m",
      "\u001b[0;31mTypeError\u001b[0m                                 Traceback (most recent call last)",
      "Cell \u001b[0;32mIn[9], line 70\u001b[0m\n\u001b[1;32m     61\u001b[0m     vector_store \u001b[38;5;241m=\u001b[39m Chroma\u001b[38;5;241m.\u001b[39mfrom_documents(\n\u001b[1;32m     62\u001b[0m         all_docs,\n\u001b[1;32m     63\u001b[0m         embedding_model,\n\u001b[0;32m   (...)\u001b[0m\n\u001b[1;32m     66\u001b[0m         metadata\u001b[38;5;241m=\u001b[39m{\u001b[38;5;124m\"\u001b[39m\u001b[38;5;124mrequired_metadata\u001b[39m\u001b[38;5;124m\"\u001b[39m: [\u001b[38;5;124m\"\u001b[39m\u001b[38;5;124msubject\u001b[39m\u001b[38;5;124m\"\u001b[39m, \u001b[38;5;124m\"\u001b[39m\u001b[38;5;124mkeywords\u001b[39m\u001b[38;5;124m\"\u001b[39m]}\n\u001b[1;32m     67\u001b[0m     )\n\u001b[1;32m     68\u001b[0m     \u001b[38;5;28;01mreturn\u001b[39;00m vector_store\n\u001b[0;32m---> 70\u001b[0m vector_store \u001b[38;5;241m=\u001b[39m \u001b[43mbuild_vector_store\u001b[49m\u001b[43m(\u001b[49m\u001b[43mall_docs\u001b[49m\u001b[43m)\u001b[49m\n",
      "Cell \u001b[0;32mIn[9], line 61\u001b[0m, in \u001b[0;36mbuild_vector_store\u001b[0;34m(all_docs, persist_dir)\u001b[0m\n\u001b[1;32m     60\u001b[0m \u001b[38;5;28;01mdef\u001b[39;00m\u001b[38;5;250m \u001b[39m\u001b[38;5;21mbuild_vector_store\u001b[39m(all_docs, persist_dir\u001b[38;5;241m=\u001b[39m\u001b[38;5;124m\"\u001b[39m\u001b[38;5;124m../vector_store/knowledge_base_one\u001b[39m\u001b[38;5;124m\"\u001b[39m):\n\u001b[0;32m---> 61\u001b[0m     vector_store \u001b[38;5;241m=\u001b[39m \u001b[43mChroma\u001b[49m\u001b[38;5;241;43m.\u001b[39;49m\u001b[43mfrom_documents\u001b[49m\u001b[43m(\u001b[49m\n\u001b[1;32m     62\u001b[0m \u001b[43m        \u001b[49m\u001b[43mall_docs\u001b[49m\u001b[43m,\u001b[49m\n\u001b[1;32m     63\u001b[0m \u001b[43m        \u001b[49m\u001b[43membedding_model\u001b[49m\u001b[43m,\u001b[49m\n\u001b[1;32m     64\u001b[0m \u001b[43m        \u001b[49m\u001b[43mpersist_directory\u001b[49m\u001b[38;5;241;43m=\u001b[39;49m\u001b[43mpersist_dir\u001b[49m\u001b[43m,\u001b[49m\n\u001b[1;32m     65\u001b[0m \u001b[43m        \u001b[49m\u001b[43mcollection_metadata\u001b[49m\u001b[38;5;241;43m=\u001b[39;49m\u001b[43m{\u001b[49m\u001b[38;5;124;43m\"\u001b[39;49m\u001b[38;5;124;43mhnsw:space\u001b[39;49m\u001b[38;5;124;43m\"\u001b[39;49m\u001b[43m:\u001b[49m\u001b[43m \u001b[49m\u001b[38;5;124;43m\"\u001b[39;49m\u001b[38;5;124;43mcosine\u001b[39;49m\u001b[38;5;124;43m\"\u001b[39;49m\u001b[43m}\u001b[49m\u001b[43m,\u001b[49m\n\u001b[1;32m     66\u001b[0m \u001b[43m        \u001b[49m\u001b[43mmetadata\u001b[49m\u001b[38;5;241;43m=\u001b[39;49m\u001b[43m{\u001b[49m\u001b[38;5;124;43m\"\u001b[39;49m\u001b[38;5;124;43mrequired_metadata\u001b[39;49m\u001b[38;5;124;43m\"\u001b[39;49m\u001b[43m:\u001b[49m\u001b[43m \u001b[49m\u001b[43m[\u001b[49m\u001b[38;5;124;43m\"\u001b[39;49m\u001b[38;5;124;43msubject\u001b[39;49m\u001b[38;5;124;43m\"\u001b[39;49m\u001b[43m,\u001b[49m\u001b[43m \u001b[49m\u001b[38;5;124;43m\"\u001b[39;49m\u001b[38;5;124;43mkeywords\u001b[39;49m\u001b[38;5;124;43m\"\u001b[39;49m\u001b[43m]\u001b[49m\u001b[43m}\u001b[49m\n\u001b[1;32m     67\u001b[0m \u001b[43m    \u001b[49m\u001b[43m)\u001b[49m\n\u001b[1;32m     68\u001b[0m     \u001b[38;5;28;01mreturn\u001b[39;00m vector_store\n",
      "File \u001b[0;32m~/miniconda3/envs/llm_learn/lib/python3.10/site-packages/langchain_chroma/vectorstores.py:1239\u001b[0m, in \u001b[0;36mChroma.from_documents\u001b[0;34m(cls, documents, embedding, ids, collection_name, persist_directory, client_settings, client, collection_metadata, **kwargs)\u001b[0m\n\u001b[1;32m   1237\u001b[0m \u001b[38;5;28;01mif\u001b[39;00m ids \u001b[38;5;129;01mis\u001b[39;00m \u001b[38;5;28;01mNone\u001b[39;00m:\n\u001b[1;32m   1238\u001b[0m     ids \u001b[38;5;241m=\u001b[39m [doc\u001b[38;5;241m.\u001b[39mid \u001b[38;5;28;01mif\u001b[39;00m doc\u001b[38;5;241m.\u001b[39mid \u001b[38;5;28;01melse\u001b[39;00m \u001b[38;5;28mstr\u001b[39m(uuid\u001b[38;5;241m.\u001b[39muuid4()) \u001b[38;5;28;01mfor\u001b[39;00m doc \u001b[38;5;129;01min\u001b[39;00m documents]\n\u001b[0;32m-> 1239\u001b[0m \u001b[38;5;28;01mreturn\u001b[39;00m \u001b[38;5;28;43mcls\u001b[39;49m\u001b[38;5;241;43m.\u001b[39;49m\u001b[43mfrom_texts\u001b[49m\u001b[43m(\u001b[49m\n\u001b[1;32m   1240\u001b[0m \u001b[43m    \u001b[49m\u001b[43mtexts\u001b[49m\u001b[38;5;241;43m=\u001b[39;49m\u001b[43mtexts\u001b[49m\u001b[43m,\u001b[49m\n\u001b[1;32m   1241\u001b[0m \u001b[43m    \u001b[49m\u001b[43membedding\u001b[49m\u001b[38;5;241;43m=\u001b[39;49m\u001b[43membedding\u001b[49m\u001b[43m,\u001b[49m\n\u001b[1;32m   1242\u001b[0m \u001b[43m    \u001b[49m\u001b[43mmetadatas\u001b[49m\u001b[38;5;241;43m=\u001b[39;49m\u001b[43mmetadatas\u001b[49m\u001b[43m,\u001b[49m\n\u001b[1;32m   1243\u001b[0m \u001b[43m    \u001b[49m\u001b[43mids\u001b[49m\u001b[38;5;241;43m=\u001b[39;49m\u001b[43mids\u001b[49m\u001b[43m,\u001b[49m\n\u001b[1;32m   1244\u001b[0m \u001b[43m    \u001b[49m\u001b[43mcollection_name\u001b[49m\u001b[38;5;241;43m=\u001b[39;49m\u001b[43mcollection_name\u001b[49m\u001b[43m,\u001b[49m\n\u001b[1;32m   1245\u001b[0m \u001b[43m    \u001b[49m\u001b[43mpersist_directory\u001b[49m\u001b[38;5;241;43m=\u001b[39;49m\u001b[43mpersist_directory\u001b[49m\u001b[43m,\u001b[49m\n\u001b[1;32m   1246\u001b[0m \u001b[43m    \u001b[49m\u001b[43mclient_settings\u001b[49m\u001b[38;5;241;43m=\u001b[39;49m\u001b[43mclient_settings\u001b[49m\u001b[43m,\u001b[49m\n\u001b[1;32m   1247\u001b[0m \u001b[43m    \u001b[49m\u001b[43mclient\u001b[49m\u001b[38;5;241;43m=\u001b[39;49m\u001b[43mclient\u001b[49m\u001b[43m,\u001b[49m\n\u001b[1;32m   1248\u001b[0m \u001b[43m    \u001b[49m\u001b[43mcollection_metadata\u001b[49m\u001b[38;5;241;43m=\u001b[39;49m\u001b[43mcollection_metadata\u001b[49m\u001b[43m,\u001b[49m\n\u001b[1;32m   1249\u001b[0m \u001b[43m    \u001b[49m\u001b[38;5;241;43m*\u001b[39;49m\u001b[38;5;241;43m*\u001b[39;49m\u001b[43mkwargs\u001b[49m\u001b[43m,\u001b[49m\n\u001b[1;32m   1250\u001b[0m \u001b[43m\u001b[49m\u001b[43m)\u001b[49m\n",
      "File \u001b[0;32m~/miniconda3/envs/llm_learn/lib/python3.10/site-packages/langchain_chroma/vectorstores.py:1166\u001b[0m, in \u001b[0;36mChroma.from_texts\u001b[0;34m(cls, texts, embedding, metadatas, ids, collection_name, persist_directory, client_settings, client, collection_metadata, **kwargs)\u001b[0m\n\u001b[1;32m   1130\u001b[0m \u001b[38;5;129m@classmethod\u001b[39m\n\u001b[1;32m   1131\u001b[0m \u001b[38;5;28;01mdef\u001b[39;00m\u001b[38;5;250m \u001b[39m\u001b[38;5;21mfrom_texts\u001b[39m(\n\u001b[1;32m   1132\u001b[0m     \u001b[38;5;28mcls\u001b[39m: Type[Chroma],\n\u001b[0;32m   (...)\u001b[0m\n\u001b[1;32m   1142\u001b[0m     \u001b[38;5;241m*\u001b[39m\u001b[38;5;241m*\u001b[39mkwargs: Any,\n\u001b[1;32m   1143\u001b[0m ) \u001b[38;5;241m-\u001b[39m\u001b[38;5;241m>\u001b[39m Chroma:\n\u001b[1;32m   1144\u001b[0m \u001b[38;5;250m    \u001b[39m\u001b[38;5;124;03m\"\"\"Create a Chroma vectorstore from a raw documents.\u001b[39;00m\n\u001b[1;32m   1145\u001b[0m \n\u001b[1;32m   1146\u001b[0m \u001b[38;5;124;03m    If a persist_directory is specified, the collection will be persisted there.\u001b[39;00m\n\u001b[0;32m   (...)\u001b[0m\n\u001b[1;32m   1164\u001b[0m \u001b[38;5;124;03m        Chroma: Chroma vectorstore.\u001b[39;00m\n\u001b[1;32m   1165\u001b[0m \u001b[38;5;124;03m    \"\"\"\u001b[39;00m\n\u001b[0;32m-> 1166\u001b[0m     chroma_collection \u001b[38;5;241m=\u001b[39m \u001b[38;5;28;43mcls\u001b[39;49m\u001b[43m(\u001b[49m\n\u001b[1;32m   1167\u001b[0m \u001b[43m        \u001b[49m\u001b[43mcollection_name\u001b[49m\u001b[38;5;241;43m=\u001b[39;49m\u001b[43mcollection_name\u001b[49m\u001b[43m,\u001b[49m\n\u001b[1;32m   1168\u001b[0m \u001b[43m        \u001b[49m\u001b[43membedding_function\u001b[49m\u001b[38;5;241;43m=\u001b[39;49m\u001b[43membedding\u001b[49m\u001b[43m,\u001b[49m\n\u001b[1;32m   1169\u001b[0m \u001b[43m        \u001b[49m\u001b[43mpersist_directory\u001b[49m\u001b[38;5;241;43m=\u001b[39;49m\u001b[43mpersist_directory\u001b[49m\u001b[43m,\u001b[49m\n\u001b[1;32m   1170\u001b[0m \u001b[43m        \u001b[49m\u001b[43mclient_settings\u001b[49m\u001b[38;5;241;43m=\u001b[39;49m\u001b[43mclient_settings\u001b[49m\u001b[43m,\u001b[49m\n\u001b[1;32m   1171\u001b[0m \u001b[43m        \u001b[49m\u001b[43mclient\u001b[49m\u001b[38;5;241;43m=\u001b[39;49m\u001b[43mclient\u001b[49m\u001b[43m,\u001b[49m\n\u001b[1;32m   1172\u001b[0m \u001b[43m        \u001b[49m\u001b[43mcollection_metadata\u001b[49m\u001b[38;5;241;43m=\u001b[39;49m\u001b[43mcollection_metadata\u001b[49m\u001b[43m,\u001b[49m\n\u001b[1;32m   1173\u001b[0m \u001b[43m        \u001b[49m\u001b[38;5;241;43m*\u001b[39;49m\u001b[38;5;241;43m*\u001b[39;49m\u001b[43mkwargs\u001b[49m\u001b[43m,\u001b[49m\n\u001b[1;32m   1174\u001b[0m \u001b[43m    \u001b[49m\u001b[43m)\u001b[49m\n\u001b[1;32m   1175\u001b[0m     \u001b[38;5;28;01mif\u001b[39;00m ids \u001b[38;5;129;01mis\u001b[39;00m \u001b[38;5;28;01mNone\u001b[39;00m:\n\u001b[1;32m   1176\u001b[0m         ids \u001b[38;5;241m=\u001b[39m [\u001b[38;5;28mstr\u001b[39m(uuid\u001b[38;5;241m.\u001b[39muuid4()) \u001b[38;5;28;01mfor\u001b[39;00m _ \u001b[38;5;129;01min\u001b[39;00m texts]\n",
      "\u001b[0;31mTypeError\u001b[0m: Chroma.__init__() got an unexpected keyword argument 'metadata'"
     ]
    }
   ],
   "source": [
    "import os\n",
    "import jieba.analyse\n",
    "from langchain_text_splitters import RecursiveCharacterTextSplitter\n",
    "from langchain_community.document_loaders import DirectoryLoader, PDFPlumberLoader\n",
    "from langchain_chroma import Chroma\n",
    "\n",
    "knowledge_base = {\n",
    "    # \"policy\": \"../documents/policy\",\n",
    "    \"quality\": \"../documents/quality\",\n",
    "    \"history\": \"../documents/history\"\n",
    "}\n",
    "\n",
    "text_splitter = RecursiveCharacterTextSplitter(\n",
    "    chunk_size=1000,\n",
    "    chunk_overlap=200\n",
    "    separators=[\"\\n\\n\", \"\\n\", \". \", \"! \", \"? \", \", \"]\n",
    ")\n",
    "\n",
    "def _enhance_documents(docs, subject):\n",
    "        \"\"\"文档增强处理（添加元数据和学科标签）\"\"\"\n",
    "        enhanced = []\n",
    "        for doc in docs:\n",
    "            # 添加学科元数据\n",
    "            doc.metadata.update({\n",
    "                \"subject\": subject,\n",
    "                \"keywords\": \" \".join(jieba.analyse.extract_tags(doc.page_content, topK=5))\n",
    "            })\n",
    "            # 在内容前添加学科标识\n",
    "            doc.page_content = f\"[{subject}] {doc.page_content}\"\n",
    "            enhanced.append(doc)\n",
    "        print(f\"已增强 {len(enhanced)} 个文档块\", enhanced[:3])\n",
    "        return enhanced\n",
    "\n",
    "def build_and_save():\n",
    "        \"\"\"构建并持久化向量数据库\"\"\"\n",
    "        all_docs = []\n",
    "        \n",
    "        for subject, dir_path in knowledge_base.items():\n",
    "            if not os.path.exists(dir_path):\n",
    "                print(f\"跳过不存在的目录：{dir_path}\")\n",
    "                continue\n",
    "            \n",
    "            # 加载和分割文档\n",
    "            loader = DirectoryLoader(\n",
    "                dir_path,\n",
    "                glob=\"**/*.pdf\",\n",
    "                loader_cls=PDFPlumberLoader,\n",
    "                show_progress=True\n",
    "            )\n",
    "            raw_docs = loader.load()\n",
    "            split_docs = text_splitter.split_documents(raw_docs)\n",
    "            \n",
    "            # 执行文档增强\n",
    "            enhanced_docs = _enhance_documents(split_docs, subject)\n",
    "            all_docs.extend(enhanced_docs)\n",
    "            print(f\"已处理 {len(enhanced_docs)} 个 {subject} 文档块\")\n",
    "        return all_docs\n",
    "\n",
    "all_docs = build_and_save()\n"
   ]
  },
  {
   "cell_type": "code",
   "execution_count": null,
   "metadata": {},
   "outputs": [],
   "source": [
    "# 3.构建向量数据库\n",
    "def build_vector_store(all_docs, persist_dir=\"../vector_store/knowledge_base_one\"):\n",
    "    vector_store = Chroma.from_documents(\n",
    "        all_docs,\n",
    "        embedding_model,\n",
    "        persist_directory=persist_dir,\n",
    "        collection_metadata={\"hnsw:space\": \"cosine\"},\n",
    "    )\n",
    "    return vector_store\n",
    "\n",
    "build_vector_store(all_docs)"
   ]
  },
  {
   "cell_type": "code",
   "execution_count": 4,
   "metadata": {},
   "outputs": [],
   "source": [
    "# 获取向量数据库\n",
    "from langchain_chroma import Chroma\n",
    "vector_store = Chroma(persist_directory=\"../vector_store/knowledge_base_one\", embedding_function=embedding_model)"
   ]
  },
  {
   "cell_type": "code",
   "execution_count": 18,
   "metadata": {},
   "outputs": [
    {
     "name": "stdout",
     "output_type": "stream",
     "text": [
      "**************************************************\n"
     ]
    }
   ],
   "source": [
    "# retriever_result = vector_store.similarity_search_with_score(\"质量管理原则\")\n",
    "# for doc, score in retriever_result:\n",
    "#     print(score, doc)\n",
    "# 输出分隔符\n",
    "print(\"*\" * 50)\n",
    "# retriever_result2 = vector_store.similarity_search_with_score(\"全面依法治国\")\n",
    "\n",
    "# for doc, score in retriever_result2:\n",
    "#     print(score, doc)\n",
    "# print(retriever_result2)"
   ]
  },
  {
   "cell_type": "code",
   "execution_count": 26,
   "metadata": {},
   "outputs": [
    {
     "name": "stdout",
     "output_type": "stream",
     "text": [
      "[history] 第八章 发展全过程人民民主\n",
      "[history] 第二节 全过程人民民主是社会主\n",
      "义民主政治的本质属性\n",
      "[history] 第二节 全过程人民民主是社会主义民主政治的本质属性\n",
      "知识点3 全过程人民民主是全链条、全方位、全覆盖的民主\n",
      "（1）全过程人民民主是全链条的民主。在民主选举环节，人民通过选\n",
      "举投票行使权利，选出代表自己意愿的人来掌握并行使权力。\n",
      "（2）全过程人民民主是全方位的民主。全过程人民民主贯通国家政治\n",
      "生活和社会生活各层面各维度。\n",
      "（3）全过程人民民主是全覆盖的民主。全过程人民民主涵盖国家各项\n",
      "事业各项工作，贯穿“五位一体”总体布局和“四个全面”战略布局\n",
      "的方方面面，是各方面民主的有机统一。\n",
      "[history] 第八章 发展全过程人民民主\n",
      "本章重难点分析\n",
      "1.人民民主是社会主义的生命\n",
      "2.中国特色社会主义政治制度行得通、有生命力、有效率\n",
      "3.坚定不移走中国特色社会主义政治发展道路\n",
      "4.全过程人民民主是社会主义民主政治的伟大创造\n",
      "5.全过程人民民主是全链条、全方位、全覆盖的民主\n",
      "6.全过程人民民主是最广泛、最真实、最管用的民主\n",
      "[history] 第三节 健全人民当家作主的制度体系\n",
      "知识点2 全面发展协商民主\n",
      "社会主义协商民主，是在中国共产党领导下，人民内部各方面围\n",
      "绕改革发展稳定重大问题和涉及群众切身利益的实际问题，在决策之\n",
      "前和决策实施之中开展广泛协商，努力形成共识的重要民主形式。\n",
      "协商民主源自中华民族长期形成的天下为公、兼容并蓄、求同存\n",
      "异等优秀政治文化，源自近代以后中国政治发展的现实进程，源自中\n",
      "国共产党领导人民进行革命、建设、改革的长期实践，源自新中国成\n",
      "立后各党派、各团体各民族、各阶层、各界人士在政治制度上共同实\n",
      "现的伟大创造，源自改革开放以来中国在政治体制上的不断创新，具\n",
      "有深厚的文化基础、理论基础、实践基础、制度基础。\n"
     ]
    }
   ],
   "source": [
    "# 检索器构造\n",
    "retriever = vector_store.as_retriever(\n",
    "    search_type=\"similarity\",\n",
    "    search_kwargs={\"k\": 3, \"filter\": None}\n",
    ")\n",
    "def query(question, category=None):\n",
    "        search_kwargs = {\"k\": 3}\n",
    "        if category:\n",
    "            search_kwargs[\"filter\"] = {\"subject\": category}\n",
    "        print(search_kwargs)\n",
    "        return retriever.invoke(question,search_kwargs)\n",
    "# 混合检索\n",
    "mix_retriever = vector_store.as_retriever(\n",
    "    search_type=\"mmr\",  # 最大边际相关性\n",
    "    search_kwargs={\"k\": 5, \"lambda_mult\": 0.7}\n",
    ")\n",
    "# results = query(\"全面依法治国\", \"quality\")\n",
    "results = mix_retriever.invoke(\"全过程民主\")\n",
    "result = \"\\n\".join([doc.page_content for doc in results])\n",
    "print(result)"
   ]
  },
  {
   "cell_type": "code",
   "execution_count": null,
   "metadata": {},
   "outputs": [
    {
     "data": {
      "text/plain": [
       "'检索结果: 如何使用langchain? 请给出详细的技术解决方案'"
      ]
     },
     "execution_count": 21,
     "metadata": {},
     "output_type": "execute_result"
    }
   ],
   "source": []
  }
 ],
 "metadata": {
  "kernelspec": {
   "display_name": "llm_learn",
   "language": "python",
   "name": "python3"
  },
  "language_info": {
   "codemirror_mode": {
    "name": "ipython",
    "version": 3
   },
   "file_extension": ".py",
   "mimetype": "text/x-python",
   "name": "python",
   "nbconvert_exporter": "python",
   "pygments_lexer": "ipython3",
   "version": "3.10.12"
  }
 },
 "nbformat": 4,
 "nbformat_minor": 2
}
